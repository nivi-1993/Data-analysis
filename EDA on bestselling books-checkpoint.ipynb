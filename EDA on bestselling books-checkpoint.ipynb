{
 "cells": [
  {
   "cell_type": "markdown",
   "metadata": {},
   "source": [
    "# Exploring and Processing Data"
   ]
  },
  {
   "cell_type": "code",
   "execution_count": 1,
   "metadata": {},
   "outputs": [],
   "source": [
    "# imports\n",
    "import pandas as pd\n",
    "import numpy as np\n",
    "import matplotlib.pyplot as plt\n",
    "import os"
   ]
  },
  {
   "cell_type": "markdown",
   "metadata": {},
   "source": [
    "## Import Data"
   ]
  },
  {
   "cell_type": "code",
   "execution_count": 2,
   "metadata": {},
   "outputs": [
    {
     "data": {
      "text/html": [
       "<div>\n",
       "<style scoped>\n",
       "    .dataframe tbody tr th:only-of-type {\n",
       "        vertical-align: middle;\n",
       "    }\n",
       "\n",
       "    .dataframe tbody tr th {\n",
       "        vertical-align: top;\n",
       "    }\n",
       "\n",
       "    .dataframe thead th {\n",
       "        text-align: right;\n",
       "    }\n",
       "</style>\n",
       "<table border=\"1\" class=\"dataframe\">\n",
       "  <thead>\n",
       "    <tr style=\"text-align: right;\">\n",
       "      <th></th>\n",
       "      <th>Name</th>\n",
       "      <th>Author</th>\n",
       "      <th>User Rating</th>\n",
       "      <th>Reviews</th>\n",
       "      <th>Price</th>\n",
       "      <th>Year</th>\n",
       "      <th>Genre</th>\n",
       "    </tr>\n",
       "  </thead>\n",
       "  <tbody>\n",
       "    <tr>\n",
       "      <th>0</th>\n",
       "      <td>10-Day Green Smoothie Cleanse</td>\n",
       "      <td>JJ Smith</td>\n",
       "      <td>4.7</td>\n",
       "      <td>17350</td>\n",
       "      <td>8</td>\n",
       "      <td>2016</td>\n",
       "      <td>Non Fiction</td>\n",
       "    </tr>\n",
       "    <tr>\n",
       "      <th>1</th>\n",
       "      <td>11/22/63: A Novel</td>\n",
       "      <td>Stephen King</td>\n",
       "      <td>4.6</td>\n",
       "      <td>2052</td>\n",
       "      <td>22</td>\n",
       "      <td>2011</td>\n",
       "      <td>Fiction</td>\n",
       "    </tr>\n",
       "    <tr>\n",
       "      <th>2</th>\n",
       "      <td>12 Rules for Life: An Antidote to Chaos</td>\n",
       "      <td>Jordan B. Peterson</td>\n",
       "      <td>4.7</td>\n",
       "      <td>18979</td>\n",
       "      <td>15</td>\n",
       "      <td>2018</td>\n",
       "      <td>Non Fiction</td>\n",
       "    </tr>\n",
       "    <tr>\n",
       "      <th>3</th>\n",
       "      <td>1984 (Signet Classics)</td>\n",
       "      <td>George Orwell</td>\n",
       "      <td>4.7</td>\n",
       "      <td>21424</td>\n",
       "      <td>6</td>\n",
       "      <td>2017</td>\n",
       "      <td>Fiction</td>\n",
       "    </tr>\n",
       "    <tr>\n",
       "      <th>4</th>\n",
       "      <td>5,000 Awesome Facts (About Everything!) (Natio...</td>\n",
       "      <td>National Geographic Kids</td>\n",
       "      <td>4.8</td>\n",
       "      <td>7665</td>\n",
       "      <td>12</td>\n",
       "      <td>2019</td>\n",
       "      <td>Non Fiction</td>\n",
       "    </tr>\n",
       "  </tbody>\n",
       "</table>\n",
       "</div>"
      ],
      "text/plain": [
       "                                                Name  \\\n",
       "0                      10-Day Green Smoothie Cleanse   \n",
       "1                                  11/22/63: A Novel   \n",
       "2            12 Rules for Life: An Antidote to Chaos   \n",
       "3                             1984 (Signet Classics)   \n",
       "4  5,000 Awesome Facts (About Everything!) (Natio...   \n",
       "\n",
       "                     Author  User Rating  Reviews  Price  Year        Genre  \n",
       "0                  JJ Smith          4.7    17350      8  2016  Non Fiction  \n",
       "1              Stephen King          4.6     2052     22  2011      Fiction  \n",
       "2        Jordan B. Peterson          4.7    18979     15  2018  Non Fiction  \n",
       "3             George Orwell          4.7    21424      6  2017      Fiction  \n",
       "4  National Geographic Kids          4.8     7665     12  2019  Non Fiction  "
      ]
     },
     "execution_count": 2,
     "metadata": {},
     "output_type": "execute_result"
    }
   ],
   "source": [
    "df = pd.read_csv('..../..../..../bestsellers with categories.csv')\n",
    "df.head()"
   ]
  },
  {
   "cell_type": "code",
   "execution_count": 3,
   "metadata": {},
   "outputs": [
    {
     "data": {
      "text/plain": [
       "pandas.core.frame.DataFrame"
      ]
     },
     "execution_count": 3,
     "metadata": {},
     "output_type": "execute_result"
    }
   ],
   "source": [
    "type(df)"
   ]
  },
  {
   "cell_type": "code",
   "execution_count": 4,
   "metadata": {},
   "outputs": [
    {
     "name": "stdout",
     "output_type": "stream",
     "text": [
      "<class 'pandas.core.frame.DataFrame'>\n",
      "RangeIndex: 550 entries, 0 to 549\n",
      "Data columns (total 7 columns):\n",
      " #   Column       Non-Null Count  Dtype  \n",
      "---  ------       --------------  -----  \n",
      " 0   Name         550 non-null    object \n",
      " 1   Author       550 non-null    object \n",
      " 2   User Rating  550 non-null    float64\n",
      " 3   Reviews      550 non-null    int64  \n",
      " 4   Price        550 non-null    int64  \n",
      " 5   Year         550 non-null    int64  \n",
      " 6   Genre        550 non-null    object \n",
      "dtypes: float64(1), int64(3), object(3)\n",
      "memory usage: 30.2+ KB\n"
     ]
    }
   ],
   "source": [
    "df.info() #checking if any NA or null values exist"
   ]
  },
  {
   "cell_type": "markdown",
   "metadata": {},
   "source": [
    "## selection"
   ]
  },
  {
   "cell_type": "code",
   "execution_count": 5,
   "metadata": {},
   "outputs": [
    {
     "data": {
      "text/plain": [
       "0                          10-Day Green Smoothie Cleanse\n",
       "1                                      11/22/63: A Novel\n",
       "2                12 Rules for Life: An Antidote to Chaos\n",
       "3                                 1984 (Signet Classics)\n",
       "4      5,000 Awesome Facts (About Everything!) (Natio...\n",
       "                             ...                        \n",
       "545         Wrecking Ball (Diary of a Wimpy Kid Book 14)\n",
       "546    You Are a Badass: How to Stop Doubting Your Gr...\n",
       "547    You Are a Badass: How to Stop Doubting Your Gr...\n",
       "548    You Are a Badass: How to Stop Doubting Your Gr...\n",
       "549    You Are a Badass: How to Stop Doubting Your Gr...\n",
       "Name: Name, Length: 550, dtype: object"
      ]
     },
     "execution_count": 5,
     "metadata": {},
     "output_type": "execute_result"
    }
   ],
   "source": [
    "df.Name"
   ]
  },
  {
   "cell_type": "code",
   "execution_count": 6,
   "metadata": {},
   "outputs": [
    {
     "data": {
      "text/plain": [
       "0                          10-Day Green Smoothie Cleanse\n",
       "1                                      11/22/63: A Novel\n",
       "2                12 Rules for Life: An Antidote to Chaos\n",
       "3                                 1984 (Signet Classics)\n",
       "4      5,000 Awesome Facts (About Everything!) (Natio...\n",
       "                             ...                        \n",
       "545         Wrecking Ball (Diary of a Wimpy Kid Book 14)\n",
       "546    You Are a Badass: How to Stop Doubting Your Gr...\n",
       "547    You Are a Badass: How to Stop Doubting Your Gr...\n",
       "548    You Are a Badass: How to Stop Doubting Your Gr...\n",
       "549    You Are a Badass: How to Stop Doubting Your Gr...\n",
       "Name: Name, Length: 550, dtype: object"
      ]
     },
     "execution_count": 6,
     "metadata": {},
     "output_type": "execute_result"
    }
   ],
   "source": [
    "df['Name'] #selecting one column"
   ]
  },
  {
   "cell_type": "code",
   "execution_count": 7,
   "metadata": {},
   "outputs": [
    {
     "data": {
      "text/html": [
       "<div>\n",
       "<style scoped>\n",
       "    .dataframe tbody tr th:only-of-type {\n",
       "        vertical-align: middle;\n",
       "    }\n",
       "\n",
       "    .dataframe tbody tr th {\n",
       "        vertical-align: top;\n",
       "    }\n",
       "\n",
       "    .dataframe thead th {\n",
       "        text-align: right;\n",
       "    }\n",
       "</style>\n",
       "<table border=\"1\" class=\"dataframe\">\n",
       "  <thead>\n",
       "    <tr style=\"text-align: right;\">\n",
       "      <th></th>\n",
       "      <th>Name</th>\n",
       "      <th>Author</th>\n",
       "    </tr>\n",
       "  </thead>\n",
       "  <tbody>\n",
       "    <tr>\n",
       "      <th>0</th>\n",
       "      <td>10-Day Green Smoothie Cleanse</td>\n",
       "      <td>JJ Smith</td>\n",
       "    </tr>\n",
       "    <tr>\n",
       "      <th>1</th>\n",
       "      <td>11/22/63: A Novel</td>\n",
       "      <td>Stephen King</td>\n",
       "    </tr>\n",
       "    <tr>\n",
       "      <th>2</th>\n",
       "      <td>12 Rules for Life: An Antidote to Chaos</td>\n",
       "      <td>Jordan B. Peterson</td>\n",
       "    </tr>\n",
       "    <tr>\n",
       "      <th>3</th>\n",
       "      <td>1984 (Signet Classics)</td>\n",
       "      <td>George Orwell</td>\n",
       "    </tr>\n",
       "    <tr>\n",
       "      <th>4</th>\n",
       "      <td>5,000 Awesome Facts (About Everything!) (Natio...</td>\n",
       "      <td>National Geographic Kids</td>\n",
       "    </tr>\n",
       "    <tr>\n",
       "      <th>...</th>\n",
       "      <td>...</td>\n",
       "      <td>...</td>\n",
       "    </tr>\n",
       "    <tr>\n",
       "      <th>545</th>\n",
       "      <td>Wrecking Ball (Diary of a Wimpy Kid Book 14)</td>\n",
       "      <td>Jeff Kinney</td>\n",
       "    </tr>\n",
       "    <tr>\n",
       "      <th>546</th>\n",
       "      <td>You Are a Badass: How to Stop Doubting Your Gr...</td>\n",
       "      <td>Jen Sincero</td>\n",
       "    </tr>\n",
       "    <tr>\n",
       "      <th>547</th>\n",
       "      <td>You Are a Badass: How to Stop Doubting Your Gr...</td>\n",
       "      <td>Jen Sincero</td>\n",
       "    </tr>\n",
       "    <tr>\n",
       "      <th>548</th>\n",
       "      <td>You Are a Badass: How to Stop Doubting Your Gr...</td>\n",
       "      <td>Jen Sincero</td>\n",
       "    </tr>\n",
       "    <tr>\n",
       "      <th>549</th>\n",
       "      <td>You Are a Badass: How to Stop Doubting Your Gr...</td>\n",
       "      <td>Jen Sincero</td>\n",
       "    </tr>\n",
       "  </tbody>\n",
       "</table>\n",
       "<p>550 rows × 2 columns</p>\n",
       "</div>"
      ],
      "text/plain": [
       "                                                  Name  \\\n",
       "0                        10-Day Green Smoothie Cleanse   \n",
       "1                                    11/22/63: A Novel   \n",
       "2              12 Rules for Life: An Antidote to Chaos   \n",
       "3                               1984 (Signet Classics)   \n",
       "4    5,000 Awesome Facts (About Everything!) (Natio...   \n",
       "..                                                 ...   \n",
       "545       Wrecking Ball (Diary of a Wimpy Kid Book 14)   \n",
       "546  You Are a Badass: How to Stop Doubting Your Gr...   \n",
       "547  You Are a Badass: How to Stop Doubting Your Gr...   \n",
       "548  You Are a Badass: How to Stop Doubting Your Gr...   \n",
       "549  You Are a Badass: How to Stop Doubting Your Gr...   \n",
       "\n",
       "                       Author  \n",
       "0                    JJ Smith  \n",
       "1                Stephen King  \n",
       "2          Jordan B. Peterson  \n",
       "3               George Orwell  \n",
       "4    National Geographic Kids  \n",
       "..                        ...  \n",
       "545               Jeff Kinney  \n",
       "546               Jen Sincero  \n",
       "547               Jen Sincero  \n",
       "548               Jen Sincero  \n",
       "549               Jen Sincero  \n",
       "\n",
       "[550 rows x 2 columns]"
      ]
     },
     "execution_count": 7,
     "metadata": {},
     "output_type": "execute_result"
    }
   ],
   "source": [
    "df[['Name', 'Author']] #selecting multiple columns"
   ]
  },
  {
   "cell_type": "markdown",
   "metadata": {},
   "source": [
    "## duplicate df as required"
   ]
  },
  {
   "cell_type": "code",
   "execution_count": 8,
   "metadata": {},
   "outputs": [
    {
     "data": {
      "text/html": [
       "<div>\n",
       "<style scoped>\n",
       "    .dataframe tbody tr th:only-of-type {\n",
       "        vertical-align: middle;\n",
       "    }\n",
       "\n",
       "    .dataframe tbody tr th {\n",
       "        vertical-align: top;\n",
       "    }\n",
       "\n",
       "    .dataframe thead th {\n",
       "        text-align: right;\n",
       "    }\n",
       "</style>\n",
       "<table border=\"1\" class=\"dataframe\">\n",
       "  <thead>\n",
       "    <tr style=\"text-align: right;\">\n",
       "      <th></th>\n",
       "      <th>Name</th>\n",
       "      <th>Author</th>\n",
       "      <th>Genre</th>\n",
       "    </tr>\n",
       "  </thead>\n",
       "  <tbody>\n",
       "    <tr>\n",
       "      <th>0</th>\n",
       "      <td>10-Day Green Smoothie Cleanse</td>\n",
       "      <td>JJ Smith</td>\n",
       "      <td>Non Fiction</td>\n",
       "    </tr>\n",
       "    <tr>\n",
       "      <th>1</th>\n",
       "      <td>11/22/63: A Novel</td>\n",
       "      <td>Stephen King</td>\n",
       "      <td>Fiction</td>\n",
       "    </tr>\n",
       "    <tr>\n",
       "      <th>2</th>\n",
       "      <td>12 Rules for Life: An Antidote to Chaos</td>\n",
       "      <td>Jordan B. Peterson</td>\n",
       "      <td>Non Fiction</td>\n",
       "    </tr>\n",
       "    <tr>\n",
       "      <th>3</th>\n",
       "      <td>1984 (Signet Classics)</td>\n",
       "      <td>George Orwell</td>\n",
       "      <td>Fiction</td>\n",
       "    </tr>\n",
       "    <tr>\n",
       "      <th>4</th>\n",
       "      <td>5,000 Awesome Facts (About Everything!) (Natio...</td>\n",
       "      <td>National Geographic Kids</td>\n",
       "      <td>Non Fiction</td>\n",
       "    </tr>\n",
       "  </tbody>\n",
       "</table>\n",
       "</div>"
      ],
      "text/plain": [
       "                                                Name  \\\n",
       "0                      10-Day Green Smoothie Cleanse   \n",
       "1                                  11/22/63: A Novel   \n",
       "2            12 Rules for Life: An Antidote to Chaos   \n",
       "3                             1984 (Signet Classics)   \n",
       "4  5,000 Awesome Facts (About Everything!) (Natio...   \n",
       "\n",
       "                     Author        Genre  \n",
       "0                  JJ Smith  Non Fiction  \n",
       "1              Stephen King      Fiction  \n",
       "2        Jordan B. Peterson  Non Fiction  \n",
       "3             George Orwell      Fiction  \n",
       "4  National Geographic Kids  Non Fiction  "
      ]
     },
     "execution_count": 8,
     "metadata": {},
     "output_type": "execute_result"
    }
   ],
   "source": [
    "newdf = df[['Name','Author','Genre']]\n",
    "newdf.head()"
   ]
  },
  {
   "cell_type": "markdown",
   "metadata": {},
   "source": [
    "## Indexing"
   ]
  },
  {
   "cell_type": "code",
   "execution_count": 9,
   "metadata": {},
   "outputs": [
    {
     "data": {
      "text/html": [
       "<div>\n",
       "<style scoped>\n",
       "    .dataframe tbody tr th:only-of-type {\n",
       "        vertical-align: middle;\n",
       "    }\n",
       "\n",
       "    .dataframe tbody tr th {\n",
       "        vertical-align: top;\n",
       "    }\n",
       "\n",
       "    .dataframe thead th {\n",
       "        text-align: right;\n",
       "    }\n",
       "</style>\n",
       "<table border=\"1\" class=\"dataframe\">\n",
       "  <thead>\n",
       "    <tr style=\"text-align: right;\">\n",
       "      <th></th>\n",
       "      <th>Name</th>\n",
       "      <th>Author</th>\n",
       "      <th>User Rating</th>\n",
       "      <th>Reviews</th>\n",
       "      <th>Price</th>\n",
       "      <th>Year</th>\n",
       "      <th>Genre</th>\n",
       "    </tr>\n",
       "  </thead>\n",
       "  <tbody>\n",
       "    <tr>\n",
       "      <th>5</th>\n",
       "      <td>A Dance with Dragons (A Song of Ice and Fire)</td>\n",
       "      <td>George R. R. Martin</td>\n",
       "      <td>4.4</td>\n",
       "      <td>12643</td>\n",
       "      <td>11</td>\n",
       "      <td>2011</td>\n",
       "      <td>Fiction</td>\n",
       "    </tr>\n",
       "    <tr>\n",
       "      <th>6</th>\n",
       "      <td>A Game of Thrones / A Clash of Kings / A Storm...</td>\n",
       "      <td>George R. R. Martin</td>\n",
       "      <td>4.7</td>\n",
       "      <td>19735</td>\n",
       "      <td>30</td>\n",
       "      <td>2014</td>\n",
       "      <td>Fiction</td>\n",
       "    </tr>\n",
       "    <tr>\n",
       "      <th>7</th>\n",
       "      <td>A Gentleman in Moscow: A Novel</td>\n",
       "      <td>Amor Towles</td>\n",
       "      <td>4.7</td>\n",
       "      <td>19699</td>\n",
       "      <td>15</td>\n",
       "      <td>2017</td>\n",
       "      <td>Fiction</td>\n",
       "    </tr>\n",
       "    <tr>\n",
       "      <th>8</th>\n",
       "      <td>A Higher Loyalty: Truth, Lies, and Leadership</td>\n",
       "      <td>James Comey</td>\n",
       "      <td>4.7</td>\n",
       "      <td>5983</td>\n",
       "      <td>3</td>\n",
       "      <td>2018</td>\n",
       "      <td>Non Fiction</td>\n",
       "    </tr>\n",
       "    <tr>\n",
       "      <th>9</th>\n",
       "      <td>A Man Called Ove: A Novel</td>\n",
       "      <td>Fredrik Backman</td>\n",
       "      <td>4.6</td>\n",
       "      <td>23848</td>\n",
       "      <td>8</td>\n",
       "      <td>2016</td>\n",
       "      <td>Fiction</td>\n",
       "    </tr>\n",
       "    <tr>\n",
       "      <th>10</th>\n",
       "      <td>A Man Called Ove: A Novel</td>\n",
       "      <td>Fredrik Backman</td>\n",
       "      <td>4.6</td>\n",
       "      <td>23848</td>\n",
       "      <td>8</td>\n",
       "      <td>2017</td>\n",
       "      <td>Fiction</td>\n",
       "    </tr>\n",
       "  </tbody>\n",
       "</table>\n",
       "</div>"
      ],
      "text/plain": [
       "                                                 Name               Author  \\\n",
       "5       A Dance with Dragons (A Song of Ice and Fire)  George R. R. Martin   \n",
       "6   A Game of Thrones / A Clash of Kings / A Storm...  George R. R. Martin   \n",
       "7                      A Gentleman in Moscow: A Novel          Amor Towles   \n",
       "8       A Higher Loyalty: Truth, Lies, and Leadership          James Comey   \n",
       "9                           A Man Called Ove: A Novel      Fredrik Backman   \n",
       "10                          A Man Called Ove: A Novel      Fredrik Backman   \n",
       "\n",
       "    User Rating  Reviews  Price  Year        Genre  \n",
       "5           4.4    12643     11  2011      Fiction  \n",
       "6           4.7    19735     30  2014      Fiction  \n",
       "7           4.7    19699     15  2017      Fiction  \n",
       "8           4.7     5983      3  2018  Non Fiction  \n",
       "9           4.6    23848      8  2016      Fiction  \n",
       "10          4.6    23848      8  2017      Fiction  "
      ]
     },
     "execution_count": 9,
     "metadata": {},
     "output_type": "execute_result"
    }
   ],
   "source": [
    "df.loc[5:10,] # loc is used for label based indexing. 5 to 10 rows and all columns"
   ]
  },
  {
   "cell_type": "code",
   "execution_count": 10,
   "metadata": {},
   "outputs": [
    {
     "data": {
      "text/html": [
       "<div>\n",
       "<style scoped>\n",
       "    .dataframe tbody tr th:only-of-type {\n",
       "        vertical-align: middle;\n",
       "    }\n",
       "\n",
       "    .dataframe tbody tr th {\n",
       "        vertical-align: top;\n",
       "    }\n",
       "\n",
       "    .dataframe thead th {\n",
       "        text-align: right;\n",
       "    }\n",
       "</style>\n",
       "<table border=\"1\" class=\"dataframe\">\n",
       "  <thead>\n",
       "    <tr style=\"text-align: right;\">\n",
       "      <th></th>\n",
       "      <th>Name</th>\n",
       "      <th>Author</th>\n",
       "      <th>User Rating</th>\n",
       "    </tr>\n",
       "  </thead>\n",
       "  <tbody>\n",
       "    <tr>\n",
       "      <th>5</th>\n",
       "      <td>A Dance with Dragons (A Song of Ice and Fire)</td>\n",
       "      <td>George R. R. Martin</td>\n",
       "      <td>4.4</td>\n",
       "    </tr>\n",
       "    <tr>\n",
       "      <th>6</th>\n",
       "      <td>A Game of Thrones / A Clash of Kings / A Storm...</td>\n",
       "      <td>George R. R. Martin</td>\n",
       "      <td>4.7</td>\n",
       "    </tr>\n",
       "    <tr>\n",
       "      <th>7</th>\n",
       "      <td>A Gentleman in Moscow: A Novel</td>\n",
       "      <td>Amor Towles</td>\n",
       "      <td>4.7</td>\n",
       "    </tr>\n",
       "    <tr>\n",
       "      <th>8</th>\n",
       "      <td>A Higher Loyalty: Truth, Lies, and Leadership</td>\n",
       "      <td>James Comey</td>\n",
       "      <td>4.7</td>\n",
       "    </tr>\n",
       "    <tr>\n",
       "      <th>9</th>\n",
       "      <td>A Man Called Ove: A Novel</td>\n",
       "      <td>Fredrik Backman</td>\n",
       "      <td>4.6</td>\n",
       "    </tr>\n",
       "    <tr>\n",
       "      <th>10</th>\n",
       "      <td>A Man Called Ove: A Novel</td>\n",
       "      <td>Fredrik Backman</td>\n",
       "      <td>4.6</td>\n",
       "    </tr>\n",
       "  </tbody>\n",
       "</table>\n",
       "</div>"
      ],
      "text/plain": [
       "                                                 Name               Author  \\\n",
       "5       A Dance with Dragons (A Song of Ice and Fire)  George R. R. Martin   \n",
       "6   A Game of Thrones / A Clash of Kings / A Storm...  George R. R. Martin   \n",
       "7                      A Gentleman in Moscow: A Novel          Amor Towles   \n",
       "8       A Higher Loyalty: Truth, Lies, and Leadership          James Comey   \n",
       "9                           A Man Called Ove: A Novel      Fredrik Backman   \n",
       "10                          A Man Called Ove: A Novel      Fredrik Backman   \n",
       "\n",
       "    User Rating  \n",
       "5           4.4  \n",
       "6           4.7  \n",
       "7           4.7  \n",
       "8           4.7  \n",
       "9           4.6  \n",
       "10          4.6  "
      ]
     },
     "execution_count": 10,
     "metadata": {},
     "output_type": "execute_result"
    }
   ],
   "source": [
    "df.loc[5:10, 'Name':'User Rating'] # specified range of rows and columns"
   ]
  },
  {
   "cell_type": "markdown",
   "metadata": {},
   "source": [
    "## summary statistics"
   ]
  },
  {
   "cell_type": "code",
   "execution_count": 11,
   "metadata": {},
   "outputs": [
    {
     "data": {
      "text/html": [
       "<div>\n",
       "<style scoped>\n",
       "    .dataframe tbody tr th:only-of-type {\n",
       "        vertical-align: middle;\n",
       "    }\n",
       "\n",
       "    .dataframe tbody tr th {\n",
       "        vertical-align: top;\n",
       "    }\n",
       "\n",
       "    .dataframe thead th {\n",
       "        text-align: right;\n",
       "    }\n",
       "</style>\n",
       "<table border=\"1\" class=\"dataframe\">\n",
       "  <thead>\n",
       "    <tr style=\"text-align: right;\">\n",
       "      <th></th>\n",
       "      <th>User Rating</th>\n",
       "      <th>Reviews</th>\n",
       "      <th>Price</th>\n",
       "      <th>Year</th>\n",
       "    </tr>\n",
       "  </thead>\n",
       "  <tbody>\n",
       "    <tr>\n",
       "      <th>count</th>\n",
       "      <td>550.000000</td>\n",
       "      <td>550.000000</td>\n",
       "      <td>550.000000</td>\n",
       "      <td>550.000000</td>\n",
       "    </tr>\n",
       "    <tr>\n",
       "      <th>mean</th>\n",
       "      <td>4.618364</td>\n",
       "      <td>11953.281818</td>\n",
       "      <td>13.100000</td>\n",
       "      <td>2014.000000</td>\n",
       "    </tr>\n",
       "    <tr>\n",
       "      <th>std</th>\n",
       "      <td>0.226980</td>\n",
       "      <td>11731.132017</td>\n",
       "      <td>10.842262</td>\n",
       "      <td>3.165156</td>\n",
       "    </tr>\n",
       "    <tr>\n",
       "      <th>min</th>\n",
       "      <td>3.300000</td>\n",
       "      <td>37.000000</td>\n",
       "      <td>0.000000</td>\n",
       "      <td>2009.000000</td>\n",
       "    </tr>\n",
       "    <tr>\n",
       "      <th>25%</th>\n",
       "      <td>4.500000</td>\n",
       "      <td>4058.000000</td>\n",
       "      <td>7.000000</td>\n",
       "      <td>2011.000000</td>\n",
       "    </tr>\n",
       "    <tr>\n",
       "      <th>50%</th>\n",
       "      <td>4.700000</td>\n",
       "      <td>8580.000000</td>\n",
       "      <td>11.000000</td>\n",
       "      <td>2014.000000</td>\n",
       "    </tr>\n",
       "    <tr>\n",
       "      <th>75%</th>\n",
       "      <td>4.800000</td>\n",
       "      <td>17253.250000</td>\n",
       "      <td>16.000000</td>\n",
       "      <td>2017.000000</td>\n",
       "    </tr>\n",
       "    <tr>\n",
       "      <th>max</th>\n",
       "      <td>4.900000</td>\n",
       "      <td>87841.000000</td>\n",
       "      <td>105.000000</td>\n",
       "      <td>2019.000000</td>\n",
       "    </tr>\n",
       "  </tbody>\n",
       "</table>\n",
       "</div>"
      ],
      "text/plain": [
       "       User Rating       Reviews       Price         Year\n",
       "count   550.000000    550.000000  550.000000   550.000000\n",
       "mean      4.618364  11953.281818   13.100000  2014.000000\n",
       "std       0.226980  11731.132017   10.842262     3.165156\n",
       "min       3.300000     37.000000    0.000000  2009.000000\n",
       "25%       4.500000   4058.000000    7.000000  2011.000000\n",
       "50%       4.700000   8580.000000   11.000000  2014.000000\n",
       "75%       4.800000  17253.250000   16.000000  2017.000000\n",
       "max       4.900000  87841.000000  105.000000  2019.000000"
      ]
     },
     "execution_count": 11,
     "metadata": {},
     "output_type": "execute_result"
    }
   ],
   "source": [
    "df.describe()"
   ]
  },
  {
   "cell_type": "markdown",
   "metadata": {},
   "source": [
    "## Plots"
   ]
  },
  {
   "cell_type": "code",
   "execution_count": 12,
   "metadata": {},
   "outputs": [
    {
     "data": {
      "text/plain": [
       "Non Fiction    310\n",
       "Fiction        240\n",
       "Name: Genre, dtype: int64"
      ]
     },
     "execution_count": 12,
     "metadata": {},
     "output_type": "execute_result"
    }
   ],
   "source": [
    "df['Genre'].value_counts() #counts unique values"
   ]
  },
  {
   "cell_type": "code",
   "execution_count": 13,
   "metadata": {},
   "outputs": [
    {
     "data": {
      "text/plain": [
       "Non Fiction    0.563636\n",
       "Fiction        0.436364\n",
       "Name: Genre, dtype: float64"
      ]
     },
     "execution_count": 13,
     "metadata": {},
     "output_type": "execute_result"
    }
   ],
   "source": [
    "df['Genre'].value_counts(normalize=True) #percentage of the quantities"
   ]
  },
  {
   "cell_type": "code",
   "execution_count": 14,
   "metadata": {},
   "outputs": [
    {
     "data": {
      "text/plain": [
       "<matplotlib.axes._subplots.AxesSubplot at 0x1d394fa610>"
      ]
     },
     "execution_count": 14,
     "metadata": {},
     "output_type": "execute_result"
    },
    {
     "data": {
      "image/png": "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\n",
      "text/plain": [
       "<Figure size 432x288 with 1 Axes>"
      ]
     },
     "metadata": {
      "needs_background": "light"
     },
     "output_type": "display_data"
    }
   ],
   "source": [
    "df['Genre'].value_counts().plot(kind='bar') #visualization "
   ]
  },
  {
   "cell_type": "markdown",
   "metadata": {},
   "source": [
    "### So during 2009-2019 the no. of Non Fiction Books are greater than the Fiction Books in the list of bestselling books.\n",
    "### This implies people love to read NFBs than FBs"
   ]
  },
  {
   "cell_type": "code",
   "execution_count": 15,
   "metadata": {},
   "outputs": [
    {
     "data": {
      "text/plain": [
       "<matplotlib.axes._subplots.AxesSubplot at 0x1d39c0bf40>"
      ]
     },
     "execution_count": 15,
     "metadata": {},
     "output_type": "execute_result"
    },
    {
     "data": {
      "image/png": "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\n",
      "text/plain": [
       "<Figure size 432x288 with 1 Axes>"
      ]
     },
     "metadata": {},
     "output_type": "display_data"
    }
   ],
   "source": [
    "df['Genre'].value_counts().plot(kind='pie')"
   ]
  },
  {
   "cell_type": "code",
   "execution_count": 16,
   "metadata": {},
   "outputs": [
    {
     "data": {
      "text/plain": [
       "<matplotlib.axes._subplots.AxesSubplot at 0x1d39c9ec70>"
      ]
     },
     "execution_count": 16,
     "metadata": {},
     "output_type": "execute_result"
    },
    {
     "data": {
      "image/png": "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\n",
      "text/plain": [
       "<Figure size 432x288 with 1 Axes>"
      ]
     },
     "metadata": {},
     "output_type": "display_data"
    }
   ],
   "source": [
    "df.groupby('Genre')['Price'].sum().plot(kind='pie') #price comparison"
   ]
  },
  {
   "cell_type": "code",
   "execution_count": null,
   "metadata": {},
   "outputs": [],
   "source": []
  }
 ],
 "metadata": {
  "kernelspec": {
   "display_name": "Python 3",
   "language": "python",
   "name": "python3"
  },
  "language_info": {
   "codemirror_mode": {
    "name": "ipython",
    "version": 3
   },
   "file_extension": ".py",
   "mimetype": "text/x-python",
   "name": "python",
   "nbconvert_exporter": "python",
   "pygments_lexer": "ipython3",
   "version": "3.8.3"
  }
 },
 "nbformat": 4,
 "nbformat_minor": 4
}

plt.style.use('ggplot')
plt.rcParams['figure.figsize' ]= (12,7)
df.Author.value_counts().sort_values(ascending=False).head(15).plot(kind='bar', color='green')
plt.title('Top 15 Authors with highest number of Books Published',fontsize=18)
plt.xlabel('Authors',fontsize=15)
plt.ylabel('No. of Books',fontsize=15)
plt.show()

Authors = df["Author"].value_counts()
Agtfb = Authors[Authors >= 5] 
Agtfb #Author greater than five books

df[['Name','Author','User Rating']].nlargest(15, 'User Rating') # 15 Books with highest user ratings

plt.rcParams['figure.figsize'] = (10,5)
df[['Name','User Rating']].nlargest(15,'User Rating').plot.bar(color='orange')
plt.title('15 Books with highest User Rating',fontsize=18)
plt.xlabel('Name of the Books',fontsize=15)
plt.ylabel('User Rating',fontsize=15)
plt.show()
